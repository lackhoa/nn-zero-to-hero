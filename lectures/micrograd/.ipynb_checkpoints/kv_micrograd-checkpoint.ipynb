{
 "cells": [
  {
   "cell_type": "code",
   "execution_count": 1,
   "id": "0f13936c-07e6-4ac0-97c3-b791c9080cf7",
   "metadata": {},
   "outputs": [],
   "source": [
    "import math\n",
    "import numpy as np\n",
    "import matplotlib.pyplot as plt\n",
    "%matplotlib inline"
   ]
  },
  {
   "cell_type": "code",
   "execution_count": 5,
   "id": "805b0f09-94e9-481c-b98c-450944c40d66",
   "metadata": {},
   "outputs": [
    {
     "data": {
      "text/plain": [
       "{Value(-6.0), Value(10.0)}"
      ]
     },
     "execution_count": 5,
     "metadata": {},
     "output_type": "execute_result"
    }
   ],
   "source": [
    "class Value:\n",
    "    def __init__(self, data, _children=()):\n",
    "        self.data = data\n",
    "        self._prev = set(_children)\n",
    "\n",
    "    def __repr__(self):\n",
    "        return f'Value({self.data})'\n",
    "\n",
    "    def __add__(self, other):\n",
    "        out = Value(self.data + other.data, (self,other))\n",
    "        return out\n",
    "\n",
    "    def __mul__(self, other):\n",
    "        out = Value(self.data * other.data, (self,other))\n",
    "        return out\n",
    "\n",
    "a = Value(2.)\n",
    "b = Value(-3.)\n",
    "c = Value(10.)\n",
    "d = a*b + c\n",
    "d._prev"
   ]
  },
  {
   "cell_type": "code",
   "execution_count": null,
   "id": "df764007-cf27-4f83-beb3-224338ca14b6",
   "metadata": {},
   "outputs": [],
   "source": []
  }
 ],
 "metadata": {
  "kernelspec": {
   "display_name": "Python 3 (ipykernel)",
   "language": "python",
   "name": "python3"
  },
  "language_info": {
   "codemirror_mode": {
    "name": "ipython",
    "version": 3
   },
   "file_extension": ".py",
   "mimetype": "text/x-python",
   "name": "python",
   "nbconvert_exporter": "python",
   "pygments_lexer": "ipython3",
   "version": "3.12.1"
  }
 },
 "nbformat": 4,
 "nbformat_minor": 5
}
